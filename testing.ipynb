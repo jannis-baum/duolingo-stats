{
 "cells": [
  {
   "cell_type": "code",
   "execution_count": 1,
   "id": "96c2b5f3-cd18-460e-8b6d-d9823f9c770e",
   "metadata": {},
   "outputs": [],
   "source": [
    "import base64\n",
    "import email\n",
    "import os\n",
    "import re\n",
    "\n",
    "from lxml import etree"
   ]
  },
  {
   "cell_type": "code",
   "execution_count": 11,
   "id": "0ac6e73f-773f-4f83-8d75-0491843590d0",
   "metadata": {},
   "outputs": [],
   "source": [
    "def parse_old_mail(content: str) -> dict | None:\n",
    "    tree = etree.HTML(content)\n",
    "    results = tree.xpath(\n",
    "        \"//*[contains(text(),'Lessons finished')]/ancestor::tr[1]/following-sibling::tr[1]//b[@class='card-value chameleon-heading']/text()\"\n",
    "    )\n",
    "    if len(results) == 1:\n",
    "        return {\n",
    "            'lessons': int(results[0].strip())\n",
    "        }\n",
    "\n",
    "def parse_new_mail(content: str) -> dict | None:\n",
    "    lessons = re.search(r'(\\d+)\\s*lessons?\\s*\\</h2', content.strip(), re.IGNORECASE)\n",
    "    minutes = re.search(r'(\\d+)\\s*minutes?\\s*\\</h2', content.strip(), re.IGNORECASE)\n",
    "    if lessons:\n",
    "        return {\n",
    "            'lessons': int(lessons.group(1)),\n",
    "            'minutes': int(minutes.group(1))\n",
    "        }        \n",
    "\n",
    "parsers = [parse_old_mail, parse_new_mail]"
   ]
  },
  {
   "cell_type": "code",
   "execution_count": 12,
   "id": "d2832c70-896b-425f-95fe-f801efa26ea2",
   "metadata": {},
   "outputs": [
    {
     "name": "stdout",
     "output_type": "stream",
     "text": [
      "Sat, 28 Dec 2024 17:27:55 +0000\n",
      "{'lessons': 154, 'minutes': 497}\n",
      "Sat, 2 Sep 2023 04:14:45 +0000\n",
      "{'lessons': 14}\n"
     ]
    }
   ],
   "source": [
    "directory = 'emails'\n",
    "for filename in os.listdir(directory):\n",
    "    if not filename.endswith('.eml'): \n",
    "        continue\n",
    "    path = os.path.join(directory, filename)\n",
    "    \n",
    "    with open(path, 'r') as eml_file:\n",
    "        msg = email.message_from_file(eml_file)\n",
    "\n",
    "    if not 'duolingo' in msg['From'].casefold():\n",
    "        continue\n",
    "\n",
    "    print(msg['date'])\n",
    "    for part in msg.walk():\n",
    "        if part.get_content_type() != 'text/html':\n",
    "            continue\n",
    "        if part.get('Content-Transfer-Encoding') != 'base64':\n",
    "            continue\n",
    "        content = base64.b64decode(part.get_payload()).decode()\n",
    "\n",
    "        result = next((result for parser in parsers if (result := parser(content))))\n",
    "        print(result)"
   ]
  },
  {
   "cell_type": "code",
   "execution_count": null,
   "id": "e178c407-3640-47cd-affa-9ed6c492c214",
   "metadata": {},
   "outputs": [],
   "source": []
  }
 ],
 "metadata": {
  "kernelspec": {
   "display_name": "Python 3 (ipykernel)",
   "language": "python",
   "name": "python3"
  },
  "language_info": {
   "codemirror_mode": {
    "name": "ipython",
    "version": 3
   },
   "file_extension": ".py",
   "mimetype": "text/x-python",
   "name": "python",
   "nbconvert_exporter": "python",
   "pygments_lexer": "ipython3",
   "version": "3.12.2"
  }
 },
 "nbformat": 4,
 "nbformat_minor": 5
}
