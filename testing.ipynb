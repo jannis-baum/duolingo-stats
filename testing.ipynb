{
 "cells": [
  {
   "cell_type": "code",
   "execution_count": 43,
   "id": "96c2b5f3-cd18-460e-8b6d-d9823f9c770e",
   "metadata": {},
   "outputs": [],
   "source": [
    "import base64\n",
    "from email import message_from_file\n",
    "import os\n",
    "\n",
    "from lxml import etree"
   ]
  },
  {
   "cell_type": "code",
   "execution_count": 64,
   "id": "d2832c70-896b-425f-95fe-f801efa26ea2",
   "metadata": {},
   "outputs": [
    {
     "name": "stdout",
     "output_type": "stream",
     "text": [
      "14\n"
     ]
    }
   ],
   "source": [
    "directory = 'emails'\n",
    "for filename in os.listdir(directory):\n",
    "    if not filename.endswith('.eml'): \n",
    "        continue\n",
    "    path = os.path.join(directory, filename)\n",
    "    \n",
    "    with open(path, 'r') as eml_file:\n",
    "        msg = message_from_file(eml_file)\n",
    "\n",
    "    if not 'duolingo' in msg['From'].casefold():\n",
    "        continue\n",
    "\n",
    "    for part in msg.walk():\n",
    "        content_type = part.get_content_type()\n",
    "        if content_type != 'text/html':\n",
    "            continue\n",
    "        encoding = part.get('Content-Transfer-Encoding')\n",
    "        if encoding != 'base64':\n",
    "            continue\n",
    "\n",
    "        content = base64.b64decode(part.get_payload()).decode()\n",
    "        tree = etree.HTML(content)\n",
    "        # old format\n",
    "        results = tree.xpath(\n",
    "            \"//*[contains(text(),'Lessons finished')]/ancestor::tr[1]/following-sibling::tr[1]//b[@class='card-value chameleon-heading']/text()\"\n",
    "        )\n",
    "        if len(results) == 1:\n",
    "            print(int(results[0].strip()))"
   ]
  },
  {
   "cell_type": "code",
   "execution_count": null,
   "id": "41dc6169-892d-4bcb-81d9-727ba8916b0c",
   "metadata": {},
   "outputs": [],
   "source": []
  },
  {
   "cell_type": "code",
   "execution_count": null,
   "id": "34f5e616-9fd7-43af-95ce-4d77b4dfc088",
   "metadata": {},
   "outputs": [],
   "source": []
  }
 ],
 "metadata": {
  "kernelspec": {
   "display_name": "Python 3 (ipykernel)",
   "language": "python",
   "name": "python3"
  },
  "language_info": {
   "codemirror_mode": {
    "name": "ipython",
    "version": 3
   },
   "file_extension": ".py",
   "mimetype": "text/x-python",
   "name": "python",
   "nbconvert_exporter": "python",
   "pygments_lexer": "ipython3",
   "version": "3.12.2"
  }
 },
 "nbformat": 4,
 "nbformat_minor": 5
}
