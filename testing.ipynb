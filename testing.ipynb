{
 "cells": [
  {
   "cell_type": "code",
   "execution_count": 76,
   "id": "96c2b5f3-cd18-460e-8b6d-d9823f9c770e",
   "metadata": {},
   "outputs": [],
   "source": [
    "import base64\n",
    "import email\n",
    "import os\n",
    "import re\n",
    "\n",
    "from lxml import etree"
   ]
  },
  {
   "cell_type": "code",
   "execution_count": 77,
   "id": "d2832c70-896b-425f-95fe-f801efa26ea2",
   "metadata": {},
   "outputs": [
    {
     "name": "stdout",
     "output_type": "stream",
     "text": [
      "154\n"
     ]
    }
   ],
   "source": [
    "directory = 'emails'\n",
    "for filename in os.listdir(directory):\n",
    "    if not filename.endswith('.eml'): \n",
    "        continue\n",
    "    path = os.path.join(directory, filename)\n",
    "    \n",
    "    with open(path, 'r') as eml_file:\n",
    "        msg = email.message_from_file(eml_file)\n",
    "\n",
    "    if not 'duolingo' in msg['From'].casefold():\n",
    "        continue\n",
    "\n",
    "    for part in msg.walk():\n",
    "        if part.get_content_type() != 'text/html':\n",
    "            continue\n",
    "        if part.get('Content-Transfer-Encoding') != 'base64':\n",
    "            continue\n",
    "            \n",
    "        # old format\n",
    "        content = base64.b64decode(part.get_payload()).decode()\n",
    "        tree = etree.HTML(content)\n",
    "        results = tree.xpath(\n",
    "            \"//*[contains(text(),'Lessons finished')]/ancestor::tr[1]/following-sibling::tr[1]//b[@class='card-value chameleon-heading']/text()\"\n",
    "        )\n",
    "        if len(results) == 1:\n",
    "            print(int(results[0].strip()))\n",
    "            continue\n",
    "\n",
    "        # new format\n",
    "        match = re.search(r'(\\d+)\\s*lessons?', content.strip(), re.IGNORECASE)\n",
    "        if match:  \n",
    "            print(int(match.group(1)))"
   ]
  },
  {
   "cell_type": "code",
   "execution_count": null,
   "id": "1748c9d3-2649-4fd8-ade5-1f2735aed6f0",
   "metadata": {},
   "outputs": [],
   "source": []
  }
 ],
 "metadata": {
  "kernelspec": {
   "display_name": "Python 3 (ipykernel)",
   "language": "python",
   "name": "python3"
  },
  "language_info": {
   "codemirror_mode": {
    "name": "ipython",
    "version": 3
   },
   "file_extension": ".py",
   "mimetype": "text/x-python",
   "name": "python",
   "nbconvert_exporter": "python",
   "pygments_lexer": "ipython3",
   "version": "3.12.2"
  }
 },
 "nbformat": 4,
 "nbformat_minor": 5
}
